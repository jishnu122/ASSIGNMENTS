{
 "cells": [
  {
   "cell_type": "code",
   "execution_count": 3,
   "id": "34b0efd5",
   "metadata": {},
   "outputs": [
    {
     "name": "stdout",
     "output_type": "stream",
     "text": [
      "enter a no1:7\n",
      "enter a no2:8\n"
     ]
    },
    {
     "data": {
      "text/plain": [
       "15"
      ]
     },
     "execution_count": 3,
     "metadata": {},
     "output_type": "execute_result"
    }
   ],
   "source": [
    "def add(x,y):\n",
    "    c=x+y\n",
    "    return c\n",
    "a=int(input('enter a no1:'))\n",
    "b=int(input('enter a no2:'))\n",
    "add(a,b)"
   ]
  },
  {
   "cell_type": "code",
   "execution_count": 5,
   "id": "d64bfdb1",
   "metadata": {},
   "outputs": [
    {
     "name": "stdout",
     "output_type": "stream",
     "text": [
      "enter a no1:5\n",
      "enter a no2:6\n",
      "enter no3:9\n",
      "9 is largest\n"
     ]
    }
   ],
   "source": [
    "def large(x,y,z):\n",
    "    if x>y and x>z:\n",
    "        print(x,'is largest')\n",
    "    elif y>x and y>z:\n",
    "        print(y,'is largest')\n",
    "    else:\n",
    "        print(z,'is largest')\n",
    "a=int(input('enter a no1:'))\n",
    "b=int(input('enter a no2:'))\n",
    "c=int(input('enter no3:'))\n",
    "large(a,b,c)"
   ]
  },
  {
   "cell_type": "code",
   "execution_count": 17,
   "id": "bffba03c",
   "metadata": {},
   "outputs": [
    {
     "name": "stdout",
     "output_type": "stream",
     "text": [
      "enter no of persons:3\n",
      "enter the score:2\n",
      "enter the score:3\n",
      "enter the score:3\n",
      "[2, 3, 3]\n",
      "2\n"
     ]
    }
   ],
   "source": [
    "l=[]\n",
    "i=int(input('enter no of persons:'))\n",
    "for i in range(0,i):\n",
    "    a=int(input('enter the score:'))\n",
    "    l.append(a)\n",
    "print(l) \n",
    "ls=set(l)\n",
    "top=max(ls)\n",
    "ls.remove(top)\n",
    "print(max(ls))"
   ]
  },
  {
   "cell_type": "code",
   "execution_count": 23,
   "id": "2e3f67a5",
   "metadata": {},
   "outputs": [
    {
     "name": "stdout",
     "output_type": "stream",
     "text": [
      "enter no of persons in set1:3\n",
      "enter no:1\n",
      "enter no:2\n",
      "enter no:3\n",
      "set1 {1, 2, 3}\n",
      "enter no of persons in set2:3\n",
      "enter no:1\n",
      "enter no:2\n",
      "enter no:4\n",
      "set2 {1, 2, 4}\n",
      "{1, 2}\n"
     ]
    }
   ],
   "source": [
    "s1=set()\n",
    "s2=set()\n",
    "i=int(input('enter no of persons in set1:'))\n",
    "for i in range(0,i):\n",
    "    a=int(input('enter no:'))\n",
    "    s1.add(a)\n",
    "print('set1',s1)\n",
    "i=int(input('enter no of persons in set2:'))\n",
    "for i in range(0,i):\n",
    "    a=int(input('enter no:'))\n",
    "    s2.add(a)\n",
    "print('set2',s2)\n",
    "if s1.intersection(s2):\n",
    "    print(s1&s2)\n",
    "else:\n",
    "    print(s1.union(S2))\n",
    "    "
   ]
  },
  {
   "cell_type": "code",
   "execution_count": 3,
   "id": "02b9b4c3",
   "metadata": {},
   "outputs": [
    {
     "name": "stdout",
     "output_type": "stream",
     "text": [
      "enter the name to be updated:meena\n",
      "{'john': [25, 32, 43], 'peter': [87, 55, 96], 'meena': [88, 77, 99]}\n"
     ]
    }
   ],
   "source": [
    "d={'john':[25,32,43],'peter':[87,55,96],'meena':[63,79,85]}\n",
    "n=input('enter the name to be updated:')\n",
    "if n in d:\n",
    "    d[n]=[88,77,99]\n",
    "    print(d)\n",
    "else:\n",
    "    print('not found')"
   ]
  },
  {
   "cell_type": "code",
   "execution_count": 4,
   "id": "f52ce3e9",
   "metadata": {},
   "outputs": [
    {
     "data": {
      "text/plain": [
       "'nraa'"
      ]
     },
     "execution_count": 4,
     "metadata": {},
     "output_type": "execute_result"
    }
   ],
   "source": [
    "s='nirmala'\n",
    "s[::2]"
   ]
  },
  {
   "cell_type": "code",
   "execution_count": 5,
   "id": "f8ca4492",
   "metadata": {},
   "outputs": [
    {
     "name": "stdout",
     "output_type": "stream",
     "text": [
      "enter age1:28\n",
      "enter age2:78\n",
      "enter age3:98\n",
      "98 is oldest\n",
      "28 is youngest\n"
     ]
    }
   ],
   "source": [
    "def large(x,y,z):\n",
    "    if x>y and x>z:\n",
    "        print(x,'is oldest')\n",
    "    elif y>x and y>z:\n",
    "        print(y,'is oldest')\n",
    "    else:\n",
    "        print(z,'is oldest')\n",
    "def small(x,y,z):\n",
    "    if x<y and x<z:\n",
    "        print(x,'is youngest')\n",
    "    elif y<x and y<z:\n",
    "        print(y,'is  youngest')\n",
    "    else:\n",
    "        print(z,'is  youngest')        \n",
    "a=int(input('enter age1:'))\n",
    "b=int(input('enter age2:'))\n",
    "c=int(input('enter age3:'))\n",
    "large(a,b,c)\n",
    "small(a,b,c)"
   ]
  },
  {
   "cell_type": "code",
   "execution_count": null,
   "id": "aa942275",
   "metadata": {},
   "outputs": [],
   "source": []
  }
 ],
 "metadata": {
  "kernelspec": {
   "display_name": "Python 3 (ipykernel)",
   "language": "python",
   "name": "python3"
  },
  "language_info": {
   "codemirror_mode": {
    "name": "ipython",
    "version": 3
   },
   "file_extension": ".py",
   "mimetype": "text/x-python",
   "name": "python",
   "nbconvert_exporter": "python",
   "pygments_lexer": "ipython3",
   "version": "3.11.5"
  }
 },
 "nbformat": 4,
 "nbformat_minor": 5
}
